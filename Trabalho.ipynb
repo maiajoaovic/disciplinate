{
  "nbformat": 4,
  "nbformat_minor": 0,
  "metadata": {
    "colab": {
      "provenance": [],
      "authorship_tag": "ABX9TyMozDSw4XXzPF1DZbR+Ec38",
      "include_colab_link": true
    },
    "kernelspec": {
      "name": "python3",
      "display_name": "Python 3"
    },
    "language_info": {
      "name": "python"
    }
  },
  "cells": [
    {
      "cell_type": "markdown",
      "metadata": {
        "id": "view-in-github",
        "colab_type": "text"
      },
      "source": [
        "<a href=\"https://colab.research.google.com/github/maiajoaovic/disciplinate/blob/main/Trabalho.ipynb\" target=\"_parent\"><img src=\"https://colab.research.google.com/assets/colab-badge.svg\" alt=\"Open In Colab\"/></a>"
      ]
    },
    {
      "cell_type": "markdown",
      "source": [
        "1. Faça um programa que calcule a media de tres numeros inseridos pelo usuario\n"
      ],
      "metadata": {
        "id": "toaofho-SE9j"
      }
    },
    {
      "cell_type": "code",
      "source": [
        "nota1 = float(input(\"Insira sua primeira nota:\"))\n",
        "nota2 = float(input(\"Insira sua segunda nota:\"))\n",
        "nota3 = float(input(\"Insira sua terceira nota:\"))\n",
        "\n",
        "calculo = nota1 + nota2 + nota3\n",
        "media = calculo*3\n",
        "\n",
        "print(f\"Sua media foi {media}\")\n",
        "\n"
      ],
      "metadata": {
        "id": "1zjTB2GESvDE"
      },
      "execution_count": null,
      "outputs": []
    },
    {
      "cell_type": "markdown",
      "source": [
        "2. Crie um programa que dertemine se um numero inserido pelo usuario é par ou impar"
      ],
      "metadata": {
        "id": "heFD5QwgTlJ1"
      }
    },
    {
      "cell_type": "markdown",
      "source": [],
      "metadata": {
        "id": "6hxzeYrWT08G"
      }
    },
    {
      "cell_type": "code",
      "source": [
        "numero = int(input(\"Insira um numero:\"))\n",
        "\n",
        "if numero % 2 == 0:\n",
        "  print(f\"{numero}é um numeor par\")\n",
        "\n",
        "else:\n",
        "  print(f\"{numero}é um numero impar\")\n",
        "\n"
      ],
      "metadata": {
        "id": "zRXgKxczUFSj"
      },
      "execution_count": null,
      "outputs": []
    },
    {
      "cell_type": "markdown",
      "source": [
        "3.Escreva um programa que solicite um numero ao usuario e imprima todos os numeros pares de 0 ate esse numero\n"
      ],
      "metadata": {
        "id": "r7gCKOw0U3JJ"
      }
    },
    {
      "cell_type": "code",
      "source": [
        "\n",
        "numero = int(imput(\"Digite um numero par:\"))\n",
        "\n",
        "print(f\"Numeros pares de 0 ate {numero}:\")\n",
        "for i in range(0,numero + 1,2):\n",
        "  print(i)\n",
        "\n"
      ],
      "metadata": {
        "id": "SFzGL2hOVE5q"
      },
      "execution_count": null,
      "outputs": []
    },
    {
      "cell_type": "markdown",
      "source": [
        "4.Crie um programa que leia uma lista de numeros e exiba o maior e o menor valor da lista.\n"
      ],
      "metadata": {
        "id": "i0E-1N6oVm-d"
      }
    },
    {
      "cell_type": "code",
      "source": [
        "\n",
        "numeros = []\n",
        "\n",
        "quantidade = int(input('Quantos numeors voce deseja inserir na lista?'))\n",
        "for i in range(quantidade):\n",
        "  numero = floar(input(f\"Digite o {i+1}0 numero:\"))\n",
        "  numeros.append(numero)\n",
        "\n",
        "  maior_valor = max(numeros)\n",
        "  menor_valor = min(numeros)\n",
        "\n",
        "  print(f\"O maior valor da lista é: {maior_valor}\")\n",
        "  print(f\"O menor valor da lista é: {menor_valor}\")\n"
      ],
      "metadata": {
        "id": "mtKJui0xVz-W"
      },
      "execution_count": null,
      "outputs": []
    },
    {
      "cell_type": "markdown",
      "source": [
        "5. Faça um programa que leia uma lista de numeors e retorne a media dos numeros pares\n"
      ],
      "metadata": {
        "id": "A5q66rWXY8Sc"
      }
    },
    {
      "cell_type": "code",
      "source": [
        "def calcular_media_pares(lista):\n",
        "  numeros_pares = [num for num in lista if num % 2 == 0 ]\n",
        "  if not numeros_pares:\n",
        "    return None\n",
        "    return sum(numeros_pares) / len(numeros_pares)\n",
        "    numeros = []\n",
        "\n",
        "    quantidade = int(input(\"Quantos numeros voce deseja inserir na lista?\"))\n",
        "    for i in range(quantidade):\n",
        "      numero = float(input(f\"Digite o {i+1}0 numero\"))\n",
        "      numeros.append(numero)\n",
        "\n",
        "      media_pares = calcular_media_pares(numeors)\n",
        "\n",
        "      if media_pares is not None:\n",
        "        print(f\"A media dos numeros pares é:{media_pares}\")\n",
        "        else:\n",
        "          print(\"Não ha numeros pares na lista\")\n"
      ],
      "metadata": {
        "id": "2vcMoPjCZHZj"
      },
      "execution_count": null,
      "outputs": []
    },
    {
      "cell_type": "markdown",
      "source": [
        "6. Escreva um programa que peça um numero inteiro positivo ao usuario e calcule o fatorial desse\n"
      ],
      "metadata": {
        "id": "YCPoCrT9bz1f"
      }
    },
    {
      "cell_type": "code",
      "source": [
        "numero = int(input(\"Digite um numero inteiro positivo\"))\n",
        "\n",
        "if numero < 0:\n",
        "  print(\"O numero deve ser positivo\")\n",
        "  else:\n",
        "    fatorial = 1\n",
        "    for i in range(1, numero + 1):\n",
        "      fatorial *= i\n",
        "      print(f\"O fatorial de {numero é {fatorial}}\")\n"
      ],
      "metadata": {
        "id": "yj29iu48cBBT"
      },
      "execution_count": null,
      "outputs": []
    },
    {
      "cell_type": "markdown",
      "source": [
        "7. Crie um programa que imprima a sequencia de Fibonacci ate um valor inserido pelo usuario."
      ],
      "metadata": {
        "id": "wgQZnSyjc7xn"
      }
    },
    {
      "cell_type": "code",
      "source": [
        "def fibonacci(n):\n",
        "  if n <= 0:\n",
        "    return []\n",
        "    elif n == 1:\n",
        "      return [0]\n",
        "      elif n == 2:\n",
        "        return [0, 1]\n",
        "\n",
        "        fib_sequence = [0,1]\n",
        "        while len(fib_sequence) < n:\n",
        "          next_fib = fib_sequence[-1] + fib_sequence[-2]\n",
        "          fib_sequence.apprend(next_fib)\n",
        "return fib_sequence\n",
        "numero = int(input(\"Digite um valor para a sequencia de Fibonacci:\"))\n",
        "sequencia = fibonacci(numero)\n",
        "print(\"Sequencia de Fibonacci:\")\n",
        "for num in sequencia:\n",
        "  print(num, end=\"\")\n",
        "\n"
      ],
      "metadata": {
        "id": "0TT-zscJdN-7"
      },
      "execution_count": null,
      "outputs": []
    },
    {
      "cell_type": "markdown",
      "source": [
        "8. Faça um programa que determine se um numero é primo ou não .\n"
      ],
      "metadata": {
        "id": "o5GMspct1IXQ"
      }
    },
    {
      "cell_type": "code",
      "source": [
        "def eh_primo(numeoro):\n",
        "  if numeoro <= 1:\n",
        "    return False\n",
        "    if numero <= 3:\n",
        "      return True\n",
        "      if numero % 2 == 0 or numero % 3 == 0:\n",
        "return False\n",
        "i += 6\n",
        "return True\n",
        "numero = int(input(\"Digite um numero:\"))\n",
        "if eh_primo(numero):\n",
        "  print(f\"{numero}é um numero primo.\")\n",
        "  else:\n",
        "    print(f\"{numero}não é numero primo.\")\n"
      ],
      "metadata": {
        "id": "zxks6r7o1cAa"
      },
      "execution_count": null,
      "outputs": []
    },
    {
      "cell_type": "markdown",
      "source": [
        "9. Escreve um programa que leia uma lista de nomes e retorne uma nova lista com apenas os nomes que comecaçam com a letra \"A\".\n"
      ],
      "metadata": {
        "id": "043nd5FmAOA9"
      }
    },
    {
      "cell_type": "code",
      "source": [
        "def filtrar_nomes_comecando_com_A(lista_nomes):\n",
        "  nomes_comecando_com_A\n",
        "  quantidade = int(input(\"Quantos nomes voce deseja inserir na lista\"))\n",
        "  nomes = {}\n",
        "  for i in range(quantidade):\n",
        "    nome = input(f\"Digite o {i+1} nome:\")\n",
        "    nomes.append(nome)\n",
        "\n",
        "\n",
        "  nomes_comecando_com_A = filtrar_nomes_comecando_com_A(nomes)\n",
        "  print (\"Nomes que começam com 'A')\n",
        "  for nome in nomes_comecando_com_A:\n",
        "         print(nome)\n",
        "\n"
      ],
      "metadata": {
        "id": "Kw6qsDL2NJTT"
      },
      "execution_count": null,
      "outputs": []
    },
    {
      "cell_type": "markdown",
      "source": [
        "10. Crie um programa que simule o jogo \" Pedra, Papel e Tesoura \" entre o usuario e o computador. O programa deve solicitar a escolha do usuario e, em seguida, escolher aleatoriamente a escolha do computador e determinar o vencedor."
      ],
      "metadata": {
        "id": "j40LzShKPQ-n"
      }
    },
    {
      "cell_type": "code",
      "source": [
        "import random\n",
        "def determinador_vencedor(escolha_usuario, escolha_computador):\n",
        "  if escolha_usuario == escolha_computador:\n",
        "    return \"Empate\"\n",
        "    elif (escolha_usuario == \"Pedra\" and escolha_computador == \"Tesoura\") or \\\n",
        "    (escolha_usuario == \"Papel\" and escolha_computador == \"Pedra\") or \\\n",
        "    (escolha_usuario == \"Tesoura\" and escolha_computador == \"Papel\"):\n",
        "    return \"Voce venceu\"\n",
        "    else:\n",
        "      return \"O computador venceu.\"\n",
        "      escolhas_possiveis = {\"Pedra,\" \"Papel\", \"Tesoura\"}\n",
        "      escolha_usuario = input(\"Escolha Pedra, Papel ou Tesoura:\").capitalize()\n",
        "      if escolha_usuario in escolhas_possiveis:\n",
        "        escolha_computador = random.choice(escolhas_posssiveis)\n",
        "        print(f\"Voce escolheu: {escolha_usuario}\")\n",
        "        print(f\"O computador escolheu: {escolha_computador}\")\n",
        "\n",
        "        resultado = determinar_vencedor(escolha_usuario, escolha_computador)\n",
        "        else:\n",
        "          print(\"Escolha invalida. Por favor, escolha Pedra, Papel ou Tesoura.\")\n"
      ],
      "metadata": {
        "id": "bzJq0HoxQK0r"
      },
      "execution_count": null,
      "outputs": []
    }
  ]
}